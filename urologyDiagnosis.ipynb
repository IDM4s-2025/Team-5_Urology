{
 "cells": [
  {
   "cell_type": "markdown",
   "metadata": {},
   "source": [
    "# TEAM 5 UROLOGY\n",
    "\n",
    "- Ofelia Gabriela Góngora Méndez\n",
    "\n",
    "- Helena Escandón López\n",
    "\n",
    "- Armando Atanasio Navarrete Yépez\n",
    "\n",
    "- Sibyla Vera Avila\n",
    "\n",
    "\n",
    "### DISEASES\n",
    "| #  | Disease                            | Description                                                                 | \n",
    "|----|------------------------------------|-----------------------------------------------------------------------------|\n",
    "| 1  | Urinary Tract Infection (UTI)      |                                                                             |\n",
    "| 2  | Kidney Stones                      |                                                                             |\n",
    "| 3  | Benign Prostatic Hyperplasia (BPH) |                                                                             | \n",
    "| 4  | Bladder Cancer                     |                                                                             | \n",
    "| 5  | Hydrocele                          |                                                                             | \n",
    "| 6  | Epididymitis                       |                                                                             | \n",
    "| 7  | Pyelonephritis                     |                                                                             | \n",
    "| 8  | Interstitial Cystitis              |                                                                             |\n",
    "| 9  | Prostatitis                        |                                                                             | \n",
    "| 10 | Renal Cancer                       |                                                                             |\n",
    "| 11 | Neurogenic Bladder                 |                                                                             | \n",
    "| 12 | Varicocele                         |                                                                             | \n",
    "\n",
    "\n",
    "### SYMPTOMS\n",
    "### DISEASES\n",
    "| #  | Disease                            | SYMPTOMS                                                               | \n",
    "|----|------------------------------------|-----------------------------------------------------------------------------|\n",
    "| 1  | Urinary Tract Infection (UTI)      |                                                                             |\n",
    "| 2  | Kidney Stones                      |                                                                             |\n",
    "| 3  | Benign Prostatic Hyperplasia (BPH) |                                                                             | \n",
    "| 4  | Bladder Cancer                     |                                                                             | \n",
    "| 5  | Hydrocele                          |                                                                             | \n",
    "| 6  | Epididymitis                       |                                                                             | \n",
    "| 7  | Pyelonephritis                     |                                                                             | \n",
    "| 8  | Interstitial Cystitis              |                                                                             |\n",
    "| 9  | Prostatitis                        |                                                                             | \n",
    "| 10 | Renal Cancer                       |                                                                             |\n",
    "| 11 | Neurogenic Bladder                 |                                                                             | \n",
    "| 12 | Varicocele                         |                                                                             | \n",
    "\n",
    "\n",
    "### REFERENCES\n",
    "\n"
   ]
  }
 ],
 "metadata": {
  "language_info": {
   "name": "python"
  }
 },
 "nbformat": 4,
 "nbformat_minor": 2
}
