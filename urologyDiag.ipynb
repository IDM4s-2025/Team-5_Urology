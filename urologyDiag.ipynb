{
 "cells": [
  {
   "cell_type": "markdown",
   "id": "c12f60ec",
   "metadata": {},
   "source": [
    "### Renal Cancer "
   ]
  },
  {
   "cell_type": "code",
   "execution_count": null,
   "id": "bd3af9ac",
   "metadata": {},
   "outputs": [],
   "source": [
    "    @Rule(Fact(action='diagnose'),\n",
    "          Fact(frequent_urination=\"yes\"),\n",
    "          Fact(blood_in_urine=\"yes\"),\n",
    "          Fact(pelvic_pain=\"yes\"))\n",
    "    def diagnose_renalc(self):\n",
    "        \"\"\"Diagnosis: Renal Cancer.\"\"\"\n",
    "        self.diagnoses.append(\"- Renal Cancer [Mayo clinic - Kidney Cancer]\")"
   ]
  },
  {
   "cell_type": "markdown",
   "id": "a7ed53f0",
   "metadata": {},
   "source": [
    "### Neurogenic Blandder Disorder "
   ]
  },
  {
   "cell_type": "code",
   "execution_count": null,
   "id": "f967e8bc",
   "metadata": {},
   "outputs": [],
   "source": [
    "    @Rule(Fact(action='diagnose'),\n",
    "          Fact(lower_back_pain=\"yes\"),\n",
    "          Fact(weak_urine_stream=\"yes\"))\n",
    "    def diagnose_neurogenicb(self):\n",
    "        \"\"\"Diagnosis: Neurogenic Bladder.\"\"\"\n",
    "        self.diagnoses.append(\"- Neurogenic Bladder Disorder [NHS- Neurogenic Bladder]\")"
   ]
  },
  {
   "cell_type": "markdown",
   "id": "c425ee3b",
   "metadata": {},
   "source": [
    "### Varicocele"
   ]
  },
  {
   "cell_type": "code",
   "execution_count": null,
   "id": "df89f4cc",
   "metadata": {},
   "outputs": [],
   "source": [
    "    @Rule(Fact(action='diagnose'),\n",
    "          Fact(testicular_swelling=\"yes\"),\n",
    "          Fact(pain_ejaculation=\"yes\"))\n",
    "    def diagnose_varicocele(self):\n",
    "        \"\"\"Diagnosis: Varicocele.\"\"\"\n",
    "        self.diagnoses.append(\"- Varicocele [Mayo Clinic - Varicocele]\")"
   ]
  },
  {
   "cell_type": "markdown",
   "id": "2367983e",
   "metadata": {},
   "source": [
    "### Symptom-based diagnosis"
   ]
  },
  {
   "cell_type": "code",
   "execution_count": null,
   "id": "2d656a60",
   "metadata": {},
   "outputs": [],
   "source": [
    "    @Rule(Fact(action='diagnose'),\n",
    "          salience=-10)\n",
    "    def show_diagnoses(self):\n",
    "        \"\"\"Show all diagnoses after the test.\"\"\"\n",
    "        if self.diagnoses:\n",
    "            print(f\"\\n Ok {self.user_name}, based on your symptoms, here are the possible diagnoses:\")\n",
    "            for d in self.diagnoses:\n",
    "                print(d)\n",
    "        else:\n",
    "            print(f\"\\n {self.user_name}, you don't seem to be presenting symptoms for the conditions evaluated. Keep going.\")\n",
    "\n",
    "        print(\"\\n Please consult a healthcare professional for a more detailed evaluation.\")\n",
    "        self.halt()"
   ]
  }
 ],
 "metadata": {
  "kernelspec": {
   "display_name": "idm",
   "language": "python",
   "name": "python3"
  },
  "language_info": {
   "codemirror_mode": {
    "name": "ipython",
    "version": 3
   },
   "file_extension": ".py",
   "mimetype": "text/x-python",
   "name": "python",
   "nbconvert_exporter": "python",
   "pygments_lexer": "ipython3",
   "version": "3.12.9"
  }
 },
 "nbformat": 4,
 "nbformat_minor": 5
}
