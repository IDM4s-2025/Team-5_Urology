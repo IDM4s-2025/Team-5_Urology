{
 "cells": [
  {
   "cell_type": "code",
   "execution_count": 11,
   "id": "1562ac91",
   "metadata": {},
   "outputs": [],
   "source": [
    "from experta import *\n",
    "\n",
    "class UrologyDiagnosis(KnowledgeEngine):\n",
    "    \"\"\"\n",
    "    Expert system for diagnosing urological diseases.\n",
    "    SIBYLA\n",
    "    \"\"\"\n",
    "    user_name = \"\"\n",
    "    diagnoses = []\n",
    "\n",
    "    @DefFacts()\n",
    "    def _initial_action(self):\n",
    "        \"\"\"We will start action.\n",
    "        SIBYLA \"\"\"\n",
    "        yield Fact(action=\"start\")\n",
    "\n",
    "    @Rule(Fact(action='start'))\n",
    "    def welcome_user(self):\n",
    "        \"\"\"We started giving the welcome to the user\n",
    "        SIBYLA.\"\"\"\n",
    "        print(\"Welcome to our Expert System\")\n",
    "        print(\"I'm here to assist you with a preliminary diagnosis for the area of urology.\")\n",
    "        print(\"Please answer carefully.\")\n",
    "        self.declare(Fact(action=\"name\"))\n",
    "\n",
    "    @Rule(Fact(action='name'))\n",
    "    def name(self):\n",
    "        \"\"\"Ask name.\n",
    "        SIBYLA\"\"\"\n",
    "        name = input(\"What's your name? \")\n",
    "        self.user_name = name\n",
    "        print(f\"\\nNice to meet you, {self.user_name}!\")\n",
    "        self.declare(Fact(name=name))\n",
    "        self.declare(Fact(action=\"age\"))\n",
    "\n",
    "    @Rule(Fact(action='age'))\n",
    "    def age(self):\n",
    "        \"\"\"Ask age\n",
    "        SIBYLA.\"\"\"\n",
    "        print(f\"Ok, {self.user_name}, now tell me your age.\")\n",
    "        age = input(\" What's your age? \")\n",
    "        self.declare(Fact(age=age))\n",
    "        self.declare(Fact(action=\"gender\"))\n",
    "\n",
    "    @Rule(Fact(action='gender'))\n",
    "    def gender(self):\n",
    "        \"\"\"Ask gender.\n",
    "        SIBYLA\"\"\"\n",
    "        print(f\" Now, {self.user_name}, what´s your gender?\")\n",
    "        gender = input(\" (male/female): \").lower()\n",
    "        self.declare(Fact(gender=gender))\n",
    "        self.declare(Fact(action=\"symptoms\"))\n",
    "\n",
    "    \"\"\"Ofelia\"\"\"\n",
    "    @Rule(Fact(action='symptoms'))\n",
    "    def symptoms(self):\n",
    "        \"\"\"Now we are gonna do a little test about symptoms.\"\"\"\n",
    "        print(f\"\\n Alright {self.user_name}, now I'll ask you about some of your symptoms one by one.\")\n",
    "        symptoms = {}\n",
    "        symptoms['pain_urination'] = input(\" Do you experience pain during urination? (yes/no) \").lower()\n",
    "        symptoms['blood_in_urine'] = input(\" Do you see blood in your urine? (yes/no) \").lower()\n",
    "        symptoms['frequent_urination'] = input(\" Do you urinate more often than usual? (yes/no) \").lower()\n",
    "        symptoms['fever'] = input(\" Do you have fever? (yes/no) \").lower()\n",
    "        symptoms['lower_back_pain'] = input(\" Do you feel lower back pain? (yes/no) \").lower()\n",
    "        symptoms['d_start_urine'] = input(\" Difficulty starting urination? (yes/no) \").lower()\n",
    "        symptoms['weak_urine_stream'] = input(\" Weak or interrupted urine stream? (yes/no) \").lower()\n",
    "        symptoms['testicular_swelling'] = input(\" Any swelling in the testicle area? (yes/no) \").lower()\n",
    "        symptoms['pain_ejaculation'] = input(\" Pain during ejaculation? (yes/no) \").lower()\n",
    "        symptoms['pelvic_pain'] = input(\" Pelvic or bladder pain? (yes/no) \").lower()\n",
    "\n",
    "        for key, value in symptoms.items():\n",
    "            self.declare(Fact(**{key: value}))\n",
    "        self.declare(Fact(action=\"diagnose\"))\n",
    "\n",
    "    \"\"\"Helena\"\"\"\n",
    "    @Rule(Fact(action='diagnose'),\n",
    "          Fact(pain_urination=\"yes\"),\n",
    "          Fact(fever=\"yes\"),\n",
    "          Fact(blood_in_urine=\"no\"))\n",
    "    def diagnose_uti(self):\n",
    "        \"\"\"Diagnosis: UTI.\"\"\"\n",
    "        self.diagnoses.append(\"- Urinary Tract Infection (UTI) [NHS: UTI]\")\n",
    "\n",
    "    @Rule(Fact(action='diagnose'),\n",
    "          Fact(pain_urination=\"yes\"),\n",
    "          Fact(blood_in_urine=\"yes\"),\n",
    "          Fact(lower_back_pain=\"yes\"))\n",
    "    def diagnose_kstones(self):\n",
    "        \"\"\"Diagnosis: Kidney Stones.\"\"\"\n",
    "        self.diagnoses.append(\"- Kidney Stones [Mayo Clinic - Kidney Stones]\")\n",
    "\n",
    "    @Rule(Fact(action='diagnose'),\n",
    "          Fact(frequent_urination=\"yes\"),\n",
    "          Fact(weak_urine_stream=\"yes\"),\n",
    "          Fact(d_start_urine=\"yes\"))\n",
    "    def diagnose_bph(self):\n",
    "        \"\"\"Diagnosis: BPH.\"\"\"\n",
    "        self.diagnoses.append(\"- Benign Prostatic Hyperplasia (BPH) [Mayo Clinic - BPH]\")\n",
    "\n",
    "    @Rule(Fact(action='diagnose'),\n",
    "          Fact(blood_in_urine=\"yes\"),\n",
    "          Fact(pelvic_pain=\"yes\"),\n",
    "          Fact(fever=\"no\"))\n",
    "    def diagnose_bladderc(self):\n",
    "        \"\"\"Diagnosis: Bladder Cancer.\n",
    "        sibyla\"\"\"\n",
    "        self.diagnoses.append(\"- Bladder Cancer [Mayo clinic - Bladder Cancer]\")\n",
    "\n",
    "    @Rule(Fact(action='diagnose'),\n",
    "          Fact(testicular_swelling=\"yes\"),\n",
    "          Fact(fever=\"no\"))\n",
    "    def diagnose_hydrocele(self):\n",
    "        \"\"\"Diagnosis: Hydrocele.\n",
    "        sibyla\"\"\"\n",
    "        self.diagnoses.append(\"- Hydrocele [Mayo Clinic - Hydrocele]\")\n",
    "\n",
    "    @Rule(Fact(action='diagnose'),\n",
    "          Fact(testicular_swelling=\"yes\"),\n",
    "          Fact(fever=\"yes\"))\n",
    "    def diagnose_epididymitis(self):\n",
    "        \"\"\"Diagnosis: Epididymitis\n",
    "        sibyla.\"\"\"\n",
    "        self.diagnoses.append(\"- Epididymitis [Mayo Clinic - Epididymitis]\")\n",
    "\n",
    "    @Rule(Fact(action='diagnose'),\n",
    "          Fact(lower_back_pain=\"yes\"),\n",
    "          Fact(fever=\"yes\"),\n",
    "          Fact(blood_in_urine=\"yes\"))\n",
    "    def diagnose_pyelonephritis(self):\n",
    "        \"\"\"Diagnosis: Pyelonephritis.\"\"\"\n",
    "        self.diagnoses.append(\"- Kidney Infection (Pyelonephritis) [Mayo Clinic - Pyelonephritis]\")\n",
    "\n",
    "    @Rule(Fact(action='diagnose'),\n",
    "          Fact(pelvic_pain=\"yes\"),\n",
    "          Fact(frequent_urination=\"yes\"),\n",
    "          Fact(pain_urination=\"yes\"))\n",
    "    def diagnose_interstitialc(self):\n",
    "        \"\"\"Diagnosis: Interstitial Cystitis.\"\"\"\n",
    "        self.diagnoses.append(\"- Interstitial Cystitis [NHS - Interstitial Cystitis]\")\n",
    "\n",
    "    \"\"\"Helena\"\"\"\n",
    "    @Rule(Fact(action='diagnose'),\n",
    "          Fact(pain_ejaculation=\"yes\"),\n",
    "          Fact(pain_urination=\"yes\"))\n",
    "    def diagnose_prostatitis(self):\n",
    "        \"\"\"Diagnosis: Prostatitis.\"\"\"\n",
    "        self.diagnoses.append(\"- Prostatitis [NHS - Prostatitis]\")\n",
    "\n",
    "\n",
    "    \"\"\"Armando\"\"\"    \n",
    "    @Rule(Fact(action='diagnose'),\n",
    "          Fact(frequent_urination=\"yes\"),\n",
    "          Fact(blood_in_urine=\"yes\"),\n",
    "          Fact(pelvic_pain=\"yes\"))\n",
    "    def diagnose_renalc(self):\n",
    "        \"\"\"Diagnosis: Renal Cancer.\"\"\"\n",
    "        self.diagnoses.append(\"- Renal Cancer [Mayo clinic - Kidney Cancer]\")\n",
    "\n",
    "    @Rule(Fact(action='diagnose'),\n",
    "          Fact(lower_back_pain=\"yes\"),\n",
    "          Fact(weak_urine_stream=\"yes\"))\n",
    "    def diagnose_neurogenicb(self):\n",
    "        \"\"\"Diagnosis: Neurogenic Bladder.\"\"\"\n",
    "        self.diagnoses.append(\"- Neurogenic Bladder Disorder [NHS- Neurogenic Bladder]\")\n",
    "\n",
    "    @Rule(Fact(action='diagnose'),\n",
    "          Fact(testicular_swelling=\"yes\"),\n",
    "          Fact(pain_ejaculation=\"yes\"))\n",
    "    def diagnose_varicocele(self):\n",
    "        \"\"\"Diagnosis: Varicocele.\"\"\"\n",
    "        self.diagnoses.append(\"- Varicocele [Mayo Clinic - Varicocele]\")\n",
    "\n",
    "    @Rule(Fact(action='diagnose'),\n",
    "          salience=-10)\n",
    "    def show_diagnoses(self):\n",
    "        \"\"\"Show all diagnoses after the test.\"\"\"\n",
    "        if self.diagnoses:\n",
    "            print(f\"\\n Ok {self.user_name}, based on your symptoms, here are the possible diagnoses:\")\n",
    "            for d in self.diagnoses:\n",
    "                print(d)\n",
    "        else:\n",
    "            print(f\"\\n {self.user_name}, you don't seem to be presenting symptoms for the conditions evaluated. Keep going.\")\n",
    "\n",
    "        print(\"\\n Please consult a healthcare professional for a more detailed evaluation.\")\n",
    "        self.halt()"
   ]
  },
  {
   "cell_type": "markdown",
   "id": "66d7f1e5",
   "metadata": {},
   "source": [
    "UTI"
   ]
  },
  {
   "cell_type": "code",
   "execution_count": null,
   "id": "f6be5a01",
   "metadata": {},
   "outputs": [
    {
     "name": "stdout",
     "output_type": "stream",
     "text": [
      "Welcome to our Expert System\n",
      "I'm here to assist you with a preliminary diagnosis for the area of urology.\n",
      "Please answer carefully.\n",
      "\n",
      "Nice to meet you, Helena!\n",
      "Ok, Helena, now tell me your age.\n",
      " Now, Helena, what´s your gender?\n",
      "\n",
      " Alright Helena, now I'll ask you about some of your symptoms one by one.\n",
      "\n",
      " Ok Helena, based on your symptoms, here are the possible diagnoses:\n",
      "- Urinary Tract Infection (UTI) [NHS: UTI]\n",
      "\n",
      " Please consult a healthcare professional for a more detailed evaluation.\n"
     ]
    }
   ],
   "source": [
    "# Run the engine for UTI \n",
    "engine = UrologyDiagnosis()\n",
    "engine.reset()\n",
    "engine.run()"
   ]
  },
  {
   "cell_type": "markdown",
   "id": "fc813d1b",
   "metadata": {},
   "source": [
    "Pyelonephritis"
   ]
  },
  {
   "cell_type": "code",
   "execution_count": 18,
   "id": "aedd4463",
   "metadata": {},
   "outputs": [
    {
     "name": "stdout",
     "output_type": "stream",
     "text": [
      "Welcome to our Expert System\n",
      "I'm here to assist you with a preliminary diagnosis for the area of urology.\n",
      "Please answer carefully.\n",
      "\n",
      "Nice to meet you, pedro!\n",
      "Ok, pedro, now tell me your age.\n",
      " Now, pedro, what´s your gender?\n",
      "\n",
      " Alright pedro, now I'll ask you about some of your symptoms one by one.\n",
      "\n",
      " Ok pedro, based on your symptoms, here are the possible diagnoses:\n",
      "- Urinary Tract Infection (UTI) [NHS: UTI]\n",
      "- Kidney Infection (Pyelonephritis) [Mayo Clinic - Pyelonephritis]\n",
      "- Kidney Infection (Pyelonephritis) [Mayo Clinic - Pyelonephritis]\n",
      "\n",
      " Please consult a healthcare professional for a more detailed evaluation.\n"
     ]
    }
   ],
   "source": [
    "# Run the engine\n",
    "engine = UrologyDiagnosis()\n",
    "engine.reset()\n",
    "engine.run()"
   ]
  },
  {
   "cell_type": "markdown",
   "id": "c12f60ec",
   "metadata": {},
   "source": [
    "### Renal Cancer "
   ]
  },
  {
   "cell_type": "code",
   "execution_count": 17,
   "id": "bd3af9ac",
   "metadata": {},
   "outputs": [
    {
     "name": "stdout",
     "output_type": "stream",
     "text": [
      "Welcome to our Expert System\n",
      "I'm here to assist you with a preliminary diagnosis for the area of urology.\n",
      "Please answer carefully.\n"
     ]
    },
    {
     "ename": "KeyboardInterrupt",
     "evalue": "Interrupted by user",
     "output_type": "error",
     "traceback": [
      "\u001b[1;31m---------------------------------------------------------------------------\u001b[0m",
      "\u001b[1;31mKeyboardInterrupt\u001b[0m                         Traceback (most recent call last)",
      "Cell \u001b[1;32mIn[17], line 11\u001b[0m\n\u001b[0;32m      9\u001b[0m engine \u001b[38;5;241m=\u001b[39m UrologyDiagnosis()\n\u001b[0;32m     10\u001b[0m engine\u001b[38;5;241m.\u001b[39mreset()\n\u001b[1;32m---> 11\u001b[0m engine\u001b[38;5;241m.\u001b[39mrun()\n",
      "File \u001b[1;32mc:\\Users\\erida\\Documents\\GitHub\\Team-5_Urology\\experta\\engine.py:165\u001b[0m, in \u001b[0;36mKnowledgeEngine.run\u001b[1;34m(self, steps)\u001b[0m\n\u001b[0;32m    157\u001b[0m         execution \u001b[38;5;241m+\u001b[39m\u001b[38;5;241m=\u001b[39m \u001b[38;5;241m1\u001b[39m\n\u001b[0;32m    159\u001b[0m         watchers\u001b[38;5;241m.\u001b[39mRULES\u001b[38;5;241m.\u001b[39minfo(\n\u001b[0;32m    160\u001b[0m             \u001b[38;5;124m\"\u001b[39m\u001b[38;5;124mFIRE \u001b[39m\u001b[38;5;132;01m%s\u001b[39;00m\u001b[38;5;124m \u001b[39m\u001b[38;5;132;01m%s\u001b[39;00m\u001b[38;5;124m: \u001b[39m\u001b[38;5;132;01m%s\u001b[39;00m\u001b[38;5;124m\"\u001b[39m,\n\u001b[0;32m    161\u001b[0m             execution,\n\u001b[0;32m    162\u001b[0m             activation\u001b[38;5;241m.\u001b[39mrule\u001b[38;5;241m.\u001b[39m\u001b[38;5;18m__name__\u001b[39m,\n\u001b[0;32m    163\u001b[0m             \u001b[38;5;124m\"\u001b[39m\u001b[38;5;124m, \u001b[39m\u001b[38;5;124m\"\u001b[39m\u001b[38;5;241m.\u001b[39mjoin(\u001b[38;5;28mstr\u001b[39m(f) \u001b[38;5;28;01mfor\u001b[39;00m f \u001b[38;5;129;01min\u001b[39;00m activation\u001b[38;5;241m.\u001b[39mfacts))\n\u001b[1;32m--> 165\u001b[0m         activation\u001b[38;5;241m.\u001b[39mrule(\n\u001b[0;32m    166\u001b[0m             \u001b[38;5;28mself\u001b[39m,\n\u001b[0;32m    167\u001b[0m             \u001b[38;5;241m*\u001b[39m\u001b[38;5;241m*\u001b[39m{k: v\n\u001b[0;32m    168\u001b[0m                \u001b[38;5;28;01mfor\u001b[39;00m k, v \u001b[38;5;129;01min\u001b[39;00m activation\u001b[38;5;241m.\u001b[39mcontext\u001b[38;5;241m.\u001b[39mitems()\n\u001b[0;32m    169\u001b[0m                \u001b[38;5;28;01mif\u001b[39;00m \u001b[38;5;129;01mnot\u001b[39;00m k\u001b[38;5;241m.\u001b[39mstartswith(\u001b[38;5;124m'\u001b[39m\u001b[38;5;124m__\u001b[39m\u001b[38;5;124m'\u001b[39m)})\n\u001b[0;32m    171\u001b[0m \u001b[38;5;28mself\u001b[39m\u001b[38;5;241m.\u001b[39mrunning \u001b[38;5;241m=\u001b[39m \u001b[38;5;28;01mFalse\u001b[39;00m\n",
      "File \u001b[1;32mc:\\Users\\erida\\Documents\\GitHub\\Team-5_Urology\\experta\\rule.py:91\u001b[0m, in \u001b[0;36mRule.__call__\u001b[1;34m(self, *args, **kwargs)\u001b[0m\n\u001b[0;32m     88\u001b[0m     kwargs \u001b[38;5;241m=\u001b[39m {k: v \u001b[38;5;28;01mfor\u001b[39;00m k, v \u001b[38;5;129;01min\u001b[39;00m kwargs\u001b[38;5;241m.\u001b[39mitems()\n\u001b[0;32m     89\u001b[0m               \u001b[38;5;28;01mif\u001b[39;00m k \u001b[38;5;129;01min\u001b[39;00m \u001b[38;5;28mself\u001b[39m\u001b[38;5;241m.\u001b[39m_wrapped_args}\n\u001b[0;32m     90\u001b[0m \u001b[38;5;28;01mif\u001b[39;00m \u001b[38;5;28mself\u001b[39m\u001b[38;5;241m.\u001b[39m_wrapped_self \u001b[38;5;129;01mis\u001b[39;00m \u001b[38;5;28;01mNone\u001b[39;00m:\n\u001b[1;32m---> 91\u001b[0m     \u001b[38;5;28;01mreturn\u001b[39;00m \u001b[38;5;28mself\u001b[39m\u001b[38;5;241m.\u001b[39m_wrapped(\u001b[38;5;241m*\u001b[39margs, \u001b[38;5;241m*\u001b[39m\u001b[38;5;241m*\u001b[39mkwargs)\n\u001b[0;32m     92\u001b[0m \u001b[38;5;28;01melse\u001b[39;00m:\n\u001b[0;32m     93\u001b[0m     \u001b[38;5;28;01mreturn\u001b[39;00m \u001b[38;5;28mself\u001b[39m\u001b[38;5;241m.\u001b[39m_wrapped(\u001b[38;5;28mself\u001b[39m\u001b[38;5;241m.\u001b[39m_wrapped_self, \u001b[38;5;241m*\u001b[39margs, \u001b[38;5;241m*\u001b[39m\u001b[38;5;241m*\u001b[39mkwargs)\n",
      "Cell \u001b[1;32mIn[11], line 30\u001b[0m, in \u001b[0;36mUrologyDiagnosis.name\u001b[1;34m(self)\u001b[0m\n\u001b[0;32m     26\u001b[0m \u001b[38;5;129m@Rule\u001b[39m(Fact(action\u001b[38;5;241m=\u001b[39m\u001b[38;5;124m'\u001b[39m\u001b[38;5;124mname\u001b[39m\u001b[38;5;124m'\u001b[39m))\n\u001b[0;32m     27\u001b[0m \u001b[38;5;28;01mdef\u001b[39;00m \u001b[38;5;21mname\u001b[39m(\u001b[38;5;28mself\u001b[39m):\n\u001b[0;32m     28\u001b[0m \u001b[38;5;250m    \u001b[39m\u001b[38;5;124;03m\"\"\"Ask name.\u001b[39;00m\n\u001b[0;32m     29\u001b[0m \u001b[38;5;124;03m    SIBYLA\"\"\"\u001b[39;00m\n\u001b[1;32m---> 30\u001b[0m     name \u001b[38;5;241m=\u001b[39m \u001b[38;5;28minput\u001b[39m(\u001b[38;5;124m\"\u001b[39m\u001b[38;5;124mWhat\u001b[39m\u001b[38;5;124m'\u001b[39m\u001b[38;5;124ms your name? \u001b[39m\u001b[38;5;124m\"\u001b[39m)\n\u001b[0;32m     31\u001b[0m     \u001b[38;5;28mself\u001b[39m\u001b[38;5;241m.\u001b[39muser_name \u001b[38;5;241m=\u001b[39m name\n\u001b[0;32m     32\u001b[0m     \u001b[38;5;28mprint\u001b[39m(\u001b[38;5;124mf\u001b[39m\u001b[38;5;124m\"\u001b[39m\u001b[38;5;130;01m\\n\u001b[39;00m\u001b[38;5;124mNice to meet you, \u001b[39m\u001b[38;5;132;01m{\u001b[39;00m\u001b[38;5;28mself\u001b[39m\u001b[38;5;241m.\u001b[39muser_name\u001b[38;5;132;01m}\u001b[39;00m\u001b[38;5;124m!\u001b[39m\u001b[38;5;124m\"\u001b[39m)\n",
      "File \u001b[1;32mc:\\Users\\erida\\anaconda3\\envs\\analisiscienciadedatos\\Lib\\site-packages\\ipykernel\\kernelbase.py:1282\u001b[0m, in \u001b[0;36mKernel.raw_input\u001b[1;34m(self, prompt)\u001b[0m\n\u001b[0;32m   1280\u001b[0m     msg \u001b[38;5;241m=\u001b[39m \u001b[38;5;124m\"\u001b[39m\u001b[38;5;124mraw_input was called, but this frontend does not support input requests.\u001b[39m\u001b[38;5;124m\"\u001b[39m\n\u001b[0;32m   1281\u001b[0m     \u001b[38;5;28;01mraise\u001b[39;00m StdinNotImplementedError(msg)\n\u001b[1;32m-> 1282\u001b[0m \u001b[38;5;28;01mreturn\u001b[39;00m \u001b[38;5;28mself\u001b[39m\u001b[38;5;241m.\u001b[39m_input_request(\n\u001b[0;32m   1283\u001b[0m     \u001b[38;5;28mstr\u001b[39m(prompt),\n\u001b[0;32m   1284\u001b[0m     \u001b[38;5;28mself\u001b[39m\u001b[38;5;241m.\u001b[39m_parent_ident[\u001b[38;5;124m\"\u001b[39m\u001b[38;5;124mshell\u001b[39m\u001b[38;5;124m\"\u001b[39m],\n\u001b[0;32m   1285\u001b[0m     \u001b[38;5;28mself\u001b[39m\u001b[38;5;241m.\u001b[39mget_parent(\u001b[38;5;124m\"\u001b[39m\u001b[38;5;124mshell\u001b[39m\u001b[38;5;124m\"\u001b[39m),\n\u001b[0;32m   1286\u001b[0m     password\u001b[38;5;241m=\u001b[39m\u001b[38;5;28;01mFalse\u001b[39;00m,\n\u001b[0;32m   1287\u001b[0m )\n",
      "File \u001b[1;32mc:\\Users\\erida\\anaconda3\\envs\\analisiscienciadedatos\\Lib\\site-packages\\ipykernel\\kernelbase.py:1325\u001b[0m, in \u001b[0;36mKernel._input_request\u001b[1;34m(self, prompt, ident, parent, password)\u001b[0m\n\u001b[0;32m   1322\u001b[0m \u001b[38;5;28;01mexcept\u001b[39;00m \u001b[38;5;167;01mKeyboardInterrupt\u001b[39;00m:\n\u001b[0;32m   1323\u001b[0m     \u001b[38;5;66;03m# re-raise KeyboardInterrupt, to truncate traceback\u001b[39;00m\n\u001b[0;32m   1324\u001b[0m     msg \u001b[38;5;241m=\u001b[39m \u001b[38;5;124m\"\u001b[39m\u001b[38;5;124mInterrupted by user\u001b[39m\u001b[38;5;124m\"\u001b[39m\n\u001b[1;32m-> 1325\u001b[0m     \u001b[38;5;28;01mraise\u001b[39;00m \u001b[38;5;167;01mKeyboardInterrupt\u001b[39;00m(msg) \u001b[38;5;28;01mfrom\u001b[39;00m \u001b[38;5;28;01mNone\u001b[39;00m\n\u001b[0;32m   1326\u001b[0m \u001b[38;5;28;01mexcept\u001b[39;00m \u001b[38;5;167;01mException\u001b[39;00m:\n\u001b[0;32m   1327\u001b[0m     \u001b[38;5;28mself\u001b[39m\u001b[38;5;241m.\u001b[39mlog\u001b[38;5;241m.\u001b[39mwarning(\u001b[38;5;124m\"\u001b[39m\u001b[38;5;124mInvalid Message:\u001b[39m\u001b[38;5;124m\"\u001b[39m, exc_info\u001b[38;5;241m=\u001b[39m\u001b[38;5;28;01mTrue\u001b[39;00m)\n",
      "\u001b[1;31mKeyboardInterrupt\u001b[0m: Interrupted by user"
     ]
    }
   ],
   "source": [
    "    @Rule(Fact(action='diagnose'),\n",
    "          Fact(frequent_urination=\"yes\"),\n",
    "          Fact(blood_in_urine=\"yes\"),\n",
    "          Fact(pelvic_pain=\"yes\"))\n",
    "    def diagnose_renalc(self):\n",
    "        \"\"\"Diagnosis: Renal Cancer.\"\"\"\n",
    "        self.diagnoses.append(\"- Renal Cancer [Mayo clinic - Kidney Cancer]\")\n",
    "\n",
    "engine = UrologyDiagnosis()\n",
    "engine.reset()\n",
    "engine.run()"
   ]
  },
  {
   "cell_type": "markdown",
   "id": "a7ed53f0",
   "metadata": {},
   "source": [
    "### Neurogenic Blandder Disorder "
   ]
  },
  {
   "cell_type": "code",
   "execution_count": null,
   "id": "f967e8bc",
   "metadata": {},
   "outputs": [],
   "source": [
    "    @Rule(Fact(action='diagnose'),\n",
    "          Fact(lower_back_pain=\"yes\"),\n",
    "          Fact(weak_urine_stream=\"yes\"))\n",
    "    def diagnose_neurogenicb(self):\n",
    "        \"\"\"Diagnosis: Neurogenic Bladder.\"\"\"\n",
    "        self.diagnoses.append(\"- Neurogenic Bladder Disorder [NHS- Neurogenic Bladder]\")"
   ]
  },
  {
   "cell_type": "markdown",
   "id": "c425ee3b",
   "metadata": {},
   "source": [
    "### Varicocele"
   ]
  },
  {
   "cell_type": "code",
   "execution_count": null,
   "id": "df89f4cc",
   "metadata": {},
   "outputs": [],
   "source": [
    "    @Rule(Fact(action='diagnose'),\n",
    "          Fact(testicular_swelling=\"yes\"),\n",
    "          Fact(pain_ejaculation=\"yes\"))\n",
    "    def diagnose_varicocele(self):\n",
    "        \"\"\"Diagnosis: Varicocele.\"\"\"\n",
    "        self.diagnoses.append(\"- Varicocele [Mayo Clinic - Varicocele]\")"
   ]
  },
  {
   "cell_type": "markdown",
   "id": "2367983e",
   "metadata": {},
   "source": [
    "### Symptom-based diagnosis"
   ]
  },
  {
   "cell_type": "code",
   "execution_count": null,
   "id": "2d656a60",
   "metadata": {},
   "outputs": [],
   "source": [
    "    @Rule(Fact(action='diagnose'),\n",
    "          salience=-10)\n",
    "    def show_diagnoses(self):\n",
    "        \"\"\"Show all diagnoses after the test.\"\"\"\n",
    "        if self.diagnoses:\n",
    "            print(f\"\\n Ok {self.user_name}, based on your symptoms, here are the possible diagnoses:\")\n",
    "            for d in self.diagnoses:\n",
    "                print(d)\n",
    "        else:\n",
    "            print(f\"\\n {self.user_name}, you don't seem to be presenting symptoms for the conditions evaluated. Keep going.\")\n",
    "\n",
    "        print(\"\\n Please consult a healthcare professional for a more detailed evaluation.\")\n",
    "        self.halt()"
   ]
  }
 ],
 "metadata": {
  "kernelspec": {
   "display_name": "analisiscienciadedatos",
   "language": "python",
   "name": "python3"
  },
  "language_info": {
   "codemirror_mode": {
    "name": "ipython",
    "version": 3
   },
   "file_extension": ".py",
   "mimetype": "text/x-python",
   "name": "python",
   "nbconvert_exporter": "python",
   "pygments_lexer": "ipython3",
   "version": "3.12.9"
  }
 },
 "nbformat": 4,
 "nbformat_minor": 5
}
